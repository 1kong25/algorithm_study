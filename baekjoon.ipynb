{
 "cells": [
  {
   "cell_type": "markdown",
   "id": "f8e9456f",
   "metadata": {},
   "source": [
    "# 🤖 알고리즘 공부 🤖"
   ]
  },
  {
   "cell_type": "markdown",
   "id": "24906cc2",
   "metadata": {},
   "source": [
    "## 깊이 우선 탐색 (DFS)\n",
    "- 가능한 모든 경로 탐색\n",
    "\n",
    "## 백트래킹 알고리즘\n",
    "- 해를 찾는 도중 해가 아니어서 막히면, 되돌아가 다시 해를 찾아가는 기법 <br>\n",
    "- 유망하지 않은 노드 가지치기 (불필요한 경로 조기 차단)<br>\n",
    "- 조건문 등을 걸어 답이 절대로 될 수 없는 상황 정의하고, 그러한 상황일 경우에는 탐색을 중지시킨 뒤 그 이전으로 돌아가 다시 다른 경우 탐색<br>\n",
    "ex) 백준 9663 n-queen\n"
   ]
  },
  {
   "cell_type": "markdown",
   "id": "640476be",
   "metadata": {},
   "source": [
    "#### 1759-1. 백트래킹 방법"
   ]
  },
  {
   "cell_type": "code",
   "execution_count": 71,
   "id": "df59fac0",
   "metadata": {},
   "outputs": [
    {
     "name": "stdout",
     "output_type": "stream",
     "text": [
      "4 6\n",
      "a t c i s w\n",
      "acis\n",
      "acit\n",
      "aciw\n",
      "acst\n",
      "acsw\n",
      "actw\n",
      "aist\n",
      "aisw\n",
      "aitw\n",
      "astw\n",
      "cist\n",
      "cisw\n",
      "citw\n",
      "istw\n"
     ]
    }
   ],
   "source": [
    "def bt(cnt,idx):\n",
    "    if cnt == l: # 암호의 알파벳 개수가 l개 될 때 까지 실행\n",
    "        mo, ja=0,0\n",
    "        for i in range(l):\n",
    "            if answer[i] in 'aeiou':\n",
    "                mo += 1\n",
    "            else:\n",
    "                ja += 1\n",
    "        if mo >= 1 and ja >= 2:\n",
    "            print(''.join(answer))\n",
    "        return\n",
    "    \n",
    "    for i in range(idx, c): # idx ~ c-1\n",
    "        answer.append(words[i])\n",
    "        bt(cnt + 1, i + 1)\n",
    "        answer.pop()\n",
    "        \n",
    "l,c = map(int, input().split())\n",
    "words = sorted(list(map(str, input().split())))\n",
    "answer = []\n",
    "bt(0,0)"
   ]
  },
  {
   "cell_type": "markdown",
   "id": "30316291",
   "metadata": {},
   "source": [
    "#### 1759-2. itertools 사용하는 방법"
   ]
  },
  {
   "cell_type": "code",
   "execution_count": 49,
   "id": "e463d71a",
   "metadata": {},
   "outputs": [
    {
     "name": "stdout",
     "output_type": "stream",
     "text": [
      "4 6 \n",
      "a t c i s w\n",
      "acis\n",
      "acit\n",
      "aciw\n",
      "acst\n",
      "acsw\n",
      "actw\n",
      "aist\n",
      "aisw\n",
      "aitw\n",
      "astw\n",
      "cist\n",
      "cisw\n",
      "citw\n",
      "istw\n"
     ]
    }
   ],
   "source": [
    "from itertools import combinations # 경우의 수 만들기\n",
    "\n",
    "l,c=map(int, input().split()) \n",
    "words=sorted(list(map(str, input().split())))\n",
    "comb=combinations(words, l)\n",
    "answer=[]\n",
    "\n",
    "for co in comb:\n",
    "    ja,mo=0,0\n",
    "    for j in range(l):\n",
    "        if co[j] in 'aeiou':\n",
    "            mo+=1\n",
    "        else:\n",
    "            ja+=1\n",
    "    if mo>=1 and ja >=2:\n",
    "        print(''.join(co))"
   ]
  }
 ],
 "metadata": {
  "kernelspec": {
   "display_name": "Python 3 (ipykernel)",
   "language": "python",
   "name": "python3"
  },
  "language_info": {
   "codemirror_mode": {
    "name": "ipython",
    "version": 3
   },
   "file_extension": ".py",
   "mimetype": "text/x-python",
   "name": "python",
   "nbconvert_exporter": "python",
   "pygments_lexer": "ipython3",
   "version": "3.9.5"
  }
 },
 "nbformat": 4,
 "nbformat_minor": 5
}
